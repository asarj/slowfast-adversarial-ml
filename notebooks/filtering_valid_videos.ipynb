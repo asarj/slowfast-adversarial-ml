{
 "cells": [
  {
   "cell_type": "code",
   "execution_count": 6,
   "id": "5e71b96b-1312-40b7-ab70-50113118de8a",
   "metadata": {},
   "outputs": [],
   "source": [
    "import av\n",
    "import pandas as pd"
   ]
  },
  {
   "cell_type": "code",
   "execution_count": 9,
   "id": "22209eda-0889-4cac-9972-fb5b218f4a89",
   "metadata": {},
   "outputs": [
    {
     "data": {
      "text/html": [
       "<div>\n",
       "<style scoped>\n",
       "    .dataframe tbody tr th:only-of-type {\n",
       "        vertical-align: middle;\n",
       "    }\n",
       "\n",
       "    .dataframe tbody tr th {\n",
       "        vertical-align: top;\n",
       "    }\n",
       "\n",
       "    .dataframe thead th {\n",
       "        text-align: right;\n",
       "    }\n",
       "</style>\n",
       "<table border=\"1\" class=\"dataframe\">\n",
       "  <thead>\n",
       "    <tr style=\"text-align: right;\">\n",
       "      <th></th>\n",
       "      <th>url</th>\n",
       "      <th>class</th>\n",
       "    </tr>\n",
       "  </thead>\n",
       "  <tbody>\n",
       "    <tr>\n",
       "      <th>0</th>\n",
       "      <td>../kinetics-400-dataset-files/val/playing_card...</td>\n",
       "      <td>222</td>\n",
       "    </tr>\n",
       "    <tr>\n",
       "      <th>1</th>\n",
       "      <td>../kinetics-400-dataset-files/val/canoeing_or_...</td>\n",
       "      <td>42</td>\n",
       "    </tr>\n",
       "    <tr>\n",
       "      <th>2</th>\n",
       "      <td>../kinetics-400-dataset-files/val/canoeing_or_...</td>\n",
       "      <td>42</td>\n",
       "    </tr>\n",
       "    <tr>\n",
       "      <th>3</th>\n",
       "      <td>../kinetics-400-dataset-files/val/canoeing_or_...</td>\n",
       "      <td>42</td>\n",
       "    </tr>\n",
       "    <tr>\n",
       "      <th>4</th>\n",
       "      <td>../kinetics-400-dataset-files/val/canoeing_or_...</td>\n",
       "      <td>42</td>\n",
       "    </tr>\n",
       "    <tr>\n",
       "      <th>...</th>\n",
       "      <td>...</td>\n",
       "      <td>...</td>\n",
       "    </tr>\n",
       "    <tr>\n",
       "      <th>2084</th>\n",
       "      <td>../kinetics-400-dataset-files/val/archery/3hoS...</td>\n",
       "      <td>5</td>\n",
       "    </tr>\n",
       "    <tr>\n",
       "      <th>2085</th>\n",
       "      <td>../kinetics-400-dataset-files/val/archery/-Qz2...</td>\n",
       "      <td>5</td>\n",
       "    </tr>\n",
       "    <tr>\n",
       "      <th>2086</th>\n",
       "      <td>../kinetics-400-dataset-files/val/archery/2x1l...</td>\n",
       "      <td>5</td>\n",
       "    </tr>\n",
       "    <tr>\n",
       "      <th>2087</th>\n",
       "      <td>../kinetics-400-dataset-files/val/taking_a_sho...</td>\n",
       "      <td>347</td>\n",
       "    </tr>\n",
       "    <tr>\n",
       "      <th>2088</th>\n",
       "      <td>../kinetics-400-dataset-files/val/taking_a_sho...</td>\n",
       "      <td>347</td>\n",
       "    </tr>\n",
       "  </tbody>\n",
       "</table>\n",
       "<p>2089 rows × 2 columns</p>\n",
       "</div>"
      ],
      "text/plain": [
       "                                                    url  class\n",
       "0     ../kinetics-400-dataset-files/val/playing_card...    222\n",
       "1     ../kinetics-400-dataset-files/val/canoeing_or_...     42\n",
       "2     ../kinetics-400-dataset-files/val/canoeing_or_...     42\n",
       "3     ../kinetics-400-dataset-files/val/canoeing_or_...     42\n",
       "4     ../kinetics-400-dataset-files/val/canoeing_or_...     42\n",
       "...                                                 ...    ...\n",
       "2084  ../kinetics-400-dataset-files/val/archery/3hoS...      5\n",
       "2085  ../kinetics-400-dataset-files/val/archery/-Qz2...      5\n",
       "2086  ../kinetics-400-dataset-files/val/archery/2x1l...      5\n",
       "2087  ../kinetics-400-dataset-files/val/taking_a_sho...    347\n",
       "2088  ../kinetics-400-dataset-files/val/taking_a_sho...    347\n",
       "\n",
       "[2089 rows x 2 columns]"
      ]
     },
     "execution_count": 9,
     "metadata": {},
     "output_type": "execute_result"
    }
   ],
   "source": [
    "df = pd.read_csv(\"../kinetics-400-dataset-files/test_raw.csv\", sep=\" \")\n",
    "df.columns = [\"url\", \"class\"]\n",
    "df"
   ]
  },
  {
   "cell_type": "code",
   "execution_count": 11,
   "id": "a932c6ae-319d-4901-90d6-34bf56d2757d",
   "metadata": {},
   "outputs": [
    {
     "name": "stdout",
     "output_type": "stream",
     "text": [
      "<av.InputContainer '../kinetics-400-dataset-files/val/playing_cards/02K4QYwUR6k_000112_000122.mp4'>\n"
     ]
    }
   ],
   "source": [
    "for _, row in df.iterrows():\n",
    "    file_path = row.url\n",
    "    container = av.open(file_path)\n",
    "    print(container)\n",
    "    break"
   ]
  },
  {
   "cell_type": "code",
   "execution_count": null,
   "id": "17add074-a5a1-4aa3-8d2f-b202f9de5304",
   "metadata": {},
   "outputs": [],
   "source": []
  }
 ],
 "metadata": {
  "kernelspec": {
   "display_name": "Python 3",
   "language": "python",
   "name": "python3"
  },
  "language_info": {
   "codemirror_mode": {
    "name": "ipython",
    "version": 3
   },
   "file_extension": ".py",
   "mimetype": "text/x-python",
   "name": "python",
   "nbconvert_exporter": "python",
   "pygments_lexer": "ipython3",
   "version": "3.8.8"
  }
 },
 "nbformat": 4,
 "nbformat_minor": 5
}
